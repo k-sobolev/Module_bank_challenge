{
 "cells": [
  {
   "cell_type": "code",
   "execution_count": 9,
   "metadata": {},
   "outputs": [],
   "source": [
    "import pandas as pd\n",
    "import numpy as np\n",
    "import datetime\n",
    "\n",
    "import xgboost as xgb\n",
    "import sklearn\n",
    "from sklearn.metrics import roc_auc_score\n",
    "\n",
    "from sklearn.model_selection import train_test_split\n",
    "\n",
    "%matplotlib inline"
   ]
  },
  {
   "cell_type": "code",
   "execution_count": 2,
   "metadata": {},
   "outputs": [
    {
     "data": {
      "text/plain": [
       "(30500, 345)"
      ]
     },
     "execution_count": 2,
     "metadata": {},
     "output_type": "execute_result"
    }
   ],
   "source": [
    "train = pd.read_csv('train.csv', '\\t', index_col='Unnamed: 0')\n",
    "test = pd.read_csv('test.csv', '\\t', index_col='Unnamed: 0')\n",
    "X = train.drop('0', axis=1).as_matrix()\n",
    "y = train['0']\n",
    "X_test = test.drop('0', axis=1).as_matrix()\n",
    "X.shape"
   ]
  },
  {
   "cell_type": "code",
   "execution_count": 30,
   "metadata": {},
   "outputs": [
    {
     "data": {
      "text/html": [
       "<div>\n",
       "<style scoped>\n",
       "    .dataframe tbody tr th:only-of-type {\n",
       "        vertical-align: middle;\n",
       "    }\n",
       "\n",
       "    .dataframe tbody tr th {\n",
       "        vertical-align: top;\n",
       "    }\n",
       "\n",
       "    .dataframe thead th {\n",
       "        text-align: right;\n",
       "    }\n",
       "</style>\n",
       "<table border=\"1\" class=\"dataframe\">\n",
       "  <thead>\n",
       "    <tr style=\"text-align: right;\">\n",
       "      <th></th>\n",
       "      <th>0</th>\n",
       "      <th>1</th>\n",
       "      <th>2</th>\n",
       "      <th>3</th>\n",
       "      <th>4</th>\n",
       "      <th>5</th>\n",
       "      <th>6</th>\n",
       "      <th>7</th>\n",
       "      <th>8</th>\n",
       "      <th>9</th>\n",
       "      <th>...</th>\n",
       "      <th>336</th>\n",
       "      <th>337</th>\n",
       "      <th>338</th>\n",
       "      <th>339</th>\n",
       "      <th>340</th>\n",
       "      <th>341</th>\n",
       "      <th>342</th>\n",
       "      <th>343</th>\n",
       "      <th>344</th>\n",
       "      <th>345</th>\n",
       "    </tr>\n",
       "  </thead>\n",
       "  <tbody>\n",
       "    <tr>\n",
       "      <th>0</th>\n",
       "      <td>1</td>\n",
       "      <td>1</td>\n",
       "      <td>0</td>\n",
       "      <td>0</td>\n",
       "      <td>0</td>\n",
       "      <td>0</td>\n",
       "      <td>0</td>\n",
       "      <td>0.090909</td>\n",
       "      <td>0</td>\n",
       "      <td>0</td>\n",
       "      <td>...</td>\n",
       "      <td>0.221395</td>\n",
       "      <td>0</td>\n",
       "      <td>1</td>\n",
       "      <td>0</td>\n",
       "      <td>0</td>\n",
       "      <td>0.222222</td>\n",
       "      <td>1</td>\n",
       "      <td>1</td>\n",
       "      <td>1</td>\n",
       "      <td>1</td>\n",
       "    </tr>\n",
       "    <tr>\n",
       "      <th>1</th>\n",
       "      <td>1</td>\n",
       "      <td>1</td>\n",
       "      <td>0</td>\n",
       "      <td>0</td>\n",
       "      <td>1</td>\n",
       "      <td>0</td>\n",
       "      <td>0</td>\n",
       "      <td>0.090909</td>\n",
       "      <td>0</td>\n",
       "      <td>0</td>\n",
       "      <td>...</td>\n",
       "      <td>0.241508</td>\n",
       "      <td>0</td>\n",
       "      <td>1</td>\n",
       "      <td>0</td>\n",
       "      <td>0</td>\n",
       "      <td>0.111111</td>\n",
       "      <td>1</td>\n",
       "      <td>1</td>\n",
       "      <td>1</td>\n",
       "      <td>0</td>\n",
       "    </tr>\n",
       "    <tr>\n",
       "      <th>2</th>\n",
       "      <td>0</td>\n",
       "      <td>1</td>\n",
       "      <td>0</td>\n",
       "      <td>0</td>\n",
       "      <td>1</td>\n",
       "      <td>0</td>\n",
       "      <td>0</td>\n",
       "      <td>0.090909</td>\n",
       "      <td>0</td>\n",
       "      <td>0</td>\n",
       "      <td>...</td>\n",
       "      <td>0.123067</td>\n",
       "      <td>0</td>\n",
       "      <td>1</td>\n",
       "      <td>0</td>\n",
       "      <td>0</td>\n",
       "      <td>0.444444</td>\n",
       "      <td>1</td>\n",
       "      <td>1</td>\n",
       "      <td>1</td>\n",
       "      <td>1</td>\n",
       "    </tr>\n",
       "    <tr>\n",
       "      <th>3</th>\n",
       "      <td>0</td>\n",
       "      <td>1</td>\n",
       "      <td>0</td>\n",
       "      <td>0</td>\n",
       "      <td>1</td>\n",
       "      <td>0</td>\n",
       "      <td>0</td>\n",
       "      <td>0.136364</td>\n",
       "      <td>0</td>\n",
       "      <td>0</td>\n",
       "      <td>...</td>\n",
       "      <td>0.296065</td>\n",
       "      <td>0</td>\n",
       "      <td>0</td>\n",
       "      <td>1</td>\n",
       "      <td>0</td>\n",
       "      <td>0.222222</td>\n",
       "      <td>1</td>\n",
       "      <td>1</td>\n",
       "      <td>1</td>\n",
       "      <td>0</td>\n",
       "    </tr>\n",
       "    <tr>\n",
       "      <th>4</th>\n",
       "      <td>0</td>\n",
       "      <td>1</td>\n",
       "      <td>0</td>\n",
       "      <td>0</td>\n",
       "      <td>1</td>\n",
       "      <td>0</td>\n",
       "      <td>0</td>\n",
       "      <td>0.136364</td>\n",
       "      <td>0</td>\n",
       "      <td>0</td>\n",
       "      <td>...</td>\n",
       "      <td>0.178956</td>\n",
       "      <td>0</td>\n",
       "      <td>0</td>\n",
       "      <td>1</td>\n",
       "      <td>0</td>\n",
       "      <td>0.111111</td>\n",
       "      <td>1</td>\n",
       "      <td>1</td>\n",
       "      <td>1</td>\n",
       "      <td>1</td>\n",
       "    </tr>\n",
       "  </tbody>\n",
       "</table>\n",
       "<p>5 rows × 346 columns</p>\n",
       "</div>"
      ],
      "text/plain": [
       "   0  1  2  3  4  5  6         7  8  9 ...        336  337  338  339  340  \\\n",
       "0  1  1  0  0  0  0  0  0.090909  0  0 ...   0.221395    0    1    0    0   \n",
       "1  1  1  0  0  1  0  0  0.090909  0  0 ...   0.241508    0    1    0    0   \n",
       "2  0  1  0  0  1  0  0  0.090909  0  0 ...   0.123067    0    1    0    0   \n",
       "3  0  1  0  0  1  0  0  0.136364  0  0 ...   0.296065    0    0    1    0   \n",
       "4  0  1  0  0  1  0  0  0.136364  0  0 ...   0.178956    0    0    1    0   \n",
       "\n",
       "        341  342  343  344  345  \n",
       "0  0.222222    1    1    1    1  \n",
       "1  0.111111    1    1    1    0  \n",
       "2  0.444444    1    1    1    1  \n",
       "3  0.222222    1    1    1    0  \n",
       "4  0.111111    1    1    1    1  \n",
       "\n",
       "[5 rows x 346 columns]"
      ]
     },
     "execution_count": 30,
     "metadata": {},
     "output_type": "execute_result"
    }
   ],
   "source": [
    "train.head()"
   ]
  },
  {
   "cell_type": "code",
   "execution_count": 3,
   "metadata": {},
   "outputs": [],
   "source": [
    "from sklearn.model_selection import train_test_split\n",
    "X_train, X_validate, y_train, y_validate = train_test_split(X, y, test_size=0.33, random_state=42)"
   ]
  },
  {
   "cell_type": "markdown",
   "metadata": {},
   "source": [
    "### Logistic regression "
   ]
  },
  {
   "cell_type": "code",
   "execution_count": 31,
   "metadata": {},
   "outputs": [],
   "source": [
    "from sklearn.linear_model import LogisticRegression\n"
   ]
  },
  {
   "cell_type": "code",
   "execution_count": 39,
   "metadata": {},
   "outputs": [
    {
     "name": "stdout",
     "output_type": "stream",
     "text": [
      "   Train Validate    C\n",
      "0.795459 0.728902 newton-cg\n",
      "0.795459 0.728901 lbfgs\n",
      "0.795459 0.728901 liblinear\n",
      "0.795459 0.728901 sag\n",
      "0.795459 0.728901 saga\n"
     ]
    }
   ],
   "source": [
    "print ('%8s %8s %4s' % ('Train','Validate','C'))\n",
    "for s in ['newton-cg', 'lbfgs', 'liblinear', 'sag', 'saga']:\n",
    "#for C in np.arange(1, 30, 1):\n",
    "    LR = LogisticRegression(C=100,penalty='l2', solver = s)\n",
    "    LR.fit(X_train, y_train)\n",
    "    AUC_train = roc_auc_score(y_train, LR.predict_proba(X_train)[:,1])\n",
    "    AUC_validate = roc_auc_score(y_validate, LR.predict_proba(X_validate)[:,1])\n",
    "    print('%.6f %.6f %s' %  (AUC_train,AUC_validate,s))"
   ]
  },
  {
   "cell_type": "code",
   "execution_count": 40,
   "metadata": {},
   "outputs": [],
   "source": [
    "LR_best = LogisticRegression(C=100,penalty='l2')\n",
    "LR_best.fit(X, y)\n",
    "ans = LR.predict_proba(X_test)[:,1]"
   ]
  },
  {
   "cell_type": "code",
   "execution_count": 42,
   "metadata": {},
   "outputs": [
    {
     "name": "stdout",
     "output_type": "stream",
     "text": [
      "(4166, 1)\n"
     ]
    },
    {
     "data": {
      "text/html": [
       "<div>\n",
       "<style scoped>\n",
       "    .dataframe tbody tr th:only-of-type {\n",
       "        vertical-align: middle;\n",
       "    }\n",
       "\n",
       "    .dataframe tbody tr th {\n",
       "        vertical-align: top;\n",
       "    }\n",
       "\n",
       "    .dataframe thead th {\n",
       "        text-align: right;\n",
       "    }\n",
       "</style>\n",
       "<table border=\"1\" class=\"dataframe\">\n",
       "  <thead>\n",
       "    <tr style=\"text-align: right;\">\n",
       "      <th></th>\n",
       "      <th>_VAL_</th>\n",
       "    </tr>\n",
       "    <tr>\n",
       "      <th>_ID_</th>\n",
       "      <th></th>\n",
       "    </tr>\n",
       "  </thead>\n",
       "  <tbody>\n",
       "    <tr>\n",
       "      <th>0</th>\n",
       "      <td>0.086063</td>\n",
       "    </tr>\n",
       "    <tr>\n",
       "      <th>1</th>\n",
       "      <td>0.531248</td>\n",
       "    </tr>\n",
       "    <tr>\n",
       "      <th>2</th>\n",
       "      <td>0.138917</td>\n",
       "    </tr>\n",
       "    <tr>\n",
       "      <th>3</th>\n",
       "      <td>0.379277</td>\n",
       "    </tr>\n",
       "    <tr>\n",
       "      <th>4</th>\n",
       "      <td>0.640003</td>\n",
       "    </tr>\n",
       "  </tbody>\n",
       "</table>\n",
       "</div>"
      ],
      "text/plain": [
       "         _VAL_\n",
       "_ID_          \n",
       "0     0.086063\n",
       "1     0.531248\n",
       "2     0.138917\n",
       "3     0.379277\n",
       "4     0.640003"
      ]
     },
     "execution_count": 42,
     "metadata": {},
     "output_type": "execute_result"
    }
   ],
   "source": [
    "test_pd = pd.DataFrame(ans,columns=['_VAL_'])\n",
    "test_pd.index.names = ['_ID_']\n",
    "test_pd.to_csv('logreg.csv')\n",
    "print(test_pd.shape)\n",
    "test_pd.head(5)"
   ]
  },
  {
   "cell_type": "markdown",
   "metadata": {},
   "source": [
    "### XGBoost "
   ]
  },
  {
   "cell_type": "code",
   "execution_count": 4,
   "metadata": {},
   "outputs": [],
   "source": [
    "import xgboost as xgb"
   ]
  },
  {
   "cell_type": "code",
   "execution_count": 5,
   "metadata": {},
   "outputs": [],
   "source": [
    "bst = xgb.XGBClassifier()"
   ]
  },
  {
   "cell_type": "code",
   "execution_count": 6,
   "metadata": {},
   "outputs": [],
   "source": [
    "dtrain = xgb.DMatrix(X_train, y_train)\n",
    "xgtrain = xgb.DMatrix(X_train)\n",
    "dvalidate = xgb.DMatrix(X_validate)\n",
    "\n",
    "D = xgb.DMatrix(X, y)\n",
    "X_vals = xgb.DMatrix(X)\n",
    "dtest = xgb.DMatrix(X_test)"
   ]
  },
  {
   "cell_type": "code",
   "execution_count": 10,
   "metadata": {},
   "outputs": [
    {
     "name": "stdout",
     "output_type": "stream",
     "text": [
      "0.774616 0.728245 m = 0.100000\n",
      "0.774616 0.728245 m = 0.200000\n",
      "0.774616 0.728245 m = 0.300000\n",
      "0.774616 0.728245 m = 0.400000\n",
      "0.774616 0.728245 m = 0.500000\n",
      "0.774616 0.728245 m = 0.600000\n",
      "0.774616 0.728245 m = 0.700000\n",
      "0.774616 0.728245 m = 0.800000\n",
      "0.774616 0.728245 m = 0.900000\n",
      "0.774616 0.728245 m = 1.000000\n",
      "0.774616 0.728245 m = 1.100000\n",
      "0.774616 0.728245 m = 1.200000\n",
      "0.774616 0.728245 m = 1.300000\n"
     ]
    }
   ],
   "source": [
    "learning_rate = np.arange(0.06, 0.15, 0.01)\n",
    "for s in np.arange(0.1, 1.4, 0.1):\n",
    "    param = {'max_depth':3, 'min_child_weight':3, 'subsample':0.7,\n",
    "                 'colsample_bytree':0.07, 'eta':0.08, 'silent':1, 'objective':'binary:logistic' }\n",
    "    num_rounds = 180\n",
    "    bst = xgb.train(param, dtrain, num_rounds)\n",
    "    AUC_train = roc_auc_score(y_train, bst.predict(xgtrain))\n",
    "    AUC_validate = roc_auc_score(y_validate, bst.predict(dvalidate))\n",
    "    print('%.6f %.6f m = %f' %  (AUC_train, AUC_validate, s))"
   ]
  },
  {
   "cell_type": "code",
   "execution_count": 11,
   "metadata": {},
   "outputs": [],
   "source": [
    "param = {'max_depth':3, 'min_child_weight':3, 'subsample':0.7, 'colsample_bytree':0.7,\n",
    "         'eta':0.08, 'silent':1, 'objective':'binary:logistic', 'seed': 666 }\n",
    "num_round = 180\n",
    "xgb_best = xgb.train(param, dtrain, num_round)"
   ]
  },
  {
   "cell_type": "code",
   "execution_count": 12,
   "metadata": {},
   "outputs": [
    {
     "data": {
      "text/plain": [
       "0.7290121360427332"
      ]
     },
     "execution_count": 12,
     "metadata": {},
     "output_type": "execute_result"
    }
   ],
   "source": [
    "import numpy as np\n",
    "from sklearn.metrics import roc_auc_score\n",
    "y_scores = xgb_best.predict(dvalidate)\n",
    "y_train_scores = xgb_best.predict(xgtrain)\n",
    "roc_auc_score(y_validate, y_scores)"
   ]
  },
  {
   "cell_type": "code",
   "execution_count": 13,
   "metadata": {},
   "outputs": [],
   "source": [
    "xgb_best = xgb.train(param, D, num_round)\n",
    "y_res = xgb_best.predict(dtest)\n",
    "y_p = xgb_best.predict(X_vals)"
   ]
  },
  {
   "cell_type": "code",
   "execution_count": 14,
   "metadata": {},
   "outputs": [
    {
     "name": "stdout",
     "output_type": "stream",
     "text": [
      "(4166, 1)\n"
     ]
    },
    {
     "data": {
      "text/html": [
       "<div>\n",
       "<style scoped>\n",
       "    .dataframe tbody tr th:only-of-type {\n",
       "        vertical-align: middle;\n",
       "    }\n",
       "\n",
       "    .dataframe tbody tr th {\n",
       "        vertical-align: top;\n",
       "    }\n",
       "\n",
       "    .dataframe thead th {\n",
       "        text-align: right;\n",
       "    }\n",
       "</style>\n",
       "<table border=\"1\" class=\"dataframe\">\n",
       "  <thead>\n",
       "    <tr style=\"text-align: right;\">\n",
       "      <th></th>\n",
       "      <th>_VAL_</th>\n",
       "    </tr>\n",
       "    <tr>\n",
       "      <th>_ID_</th>\n",
       "      <th></th>\n",
       "    </tr>\n",
       "  </thead>\n",
       "  <tbody>\n",
       "    <tr>\n",
       "      <th>0</th>\n",
       "      <td>0.108647</td>\n",
       "    </tr>\n",
       "    <tr>\n",
       "      <th>1</th>\n",
       "      <td>0.412091</td>\n",
       "    </tr>\n",
       "    <tr>\n",
       "      <th>2</th>\n",
       "      <td>0.173746</td>\n",
       "    </tr>\n",
       "    <tr>\n",
       "      <th>3</th>\n",
       "      <td>0.336561</td>\n",
       "    </tr>\n",
       "    <tr>\n",
       "      <th>4</th>\n",
       "      <td>0.467857</td>\n",
       "    </tr>\n",
       "  </tbody>\n",
       "</table>\n",
       "</div>"
      ],
      "text/plain": [
       "         _VAL_\n",
       "_ID_          \n",
       "0     0.108647\n",
       "1     0.412091\n",
       "2     0.173746\n",
       "3     0.336561\n",
       "4     0.467857"
      ]
     },
     "execution_count": 14,
     "metadata": {},
     "output_type": "execute_result"
    }
   ],
   "source": [
    "#Сохраняем результат в csv\n",
    "test_pd = pd.DataFrame(y_res,columns=['_VAL_'])\n",
    "test_pd.index.names = ['_ID_']\n",
    "test_pd.to_csv('xgb.csv')\n",
    "print(test_pd.shape)\n",
    "test_pd.head(5)"
   ]
  },
  {
   "cell_type": "code",
   "execution_count": 15,
   "metadata": {},
   "outputs": [
    {
     "data": {
      "text/plain": [
       "array([0.10864674, 0.4120909 , 0.17374647, ..., 0.06989857, 0.09565405,\n",
       "       0.15100183], dtype=float32)"
      ]
     },
     "execution_count": 15,
     "metadata": {},
     "output_type": "execute_result"
    }
   ],
   "source": [
    "y_res"
   ]
  },
  {
   "cell_type": "code",
   "execution_count": 16,
   "metadata": {},
   "outputs": [
    {
     "data": {
      "text/plain": [
       "[1, 26, 51, 76, 101, 126, 151, 176, 201, 226, 251, 276]"
      ]
     },
     "execution_count": 16,
     "metadata": {},
     "output_type": "execute_result"
    }
   ],
   "source": [
    "range(1, 300, 25)"
   ]
  },
  {
   "cell_type": "markdown",
   "metadata": {
    "collapsed": true
   },
   "source": [
    "### CatBoost"
   ]
  },
  {
   "cell_type": "code",
   "execution_count": 18,
   "metadata": {},
   "outputs": [],
   "source": [
    "from catboost import CatBoostClassifier"
   ]
  },
  {
   "cell_type": "code",
   "execution_count": 23,
   "metadata": {},
   "outputs": [
    {
     "name": "stdout",
     "output_type": "stream",
     "text": [
      "0.5732862534499384 0.5732862534499384\n"
     ]
    }
   ],
   "source": [
    "model = CatBoostClassifier(iterations=6000, learning_rate=0.1, depth=6, loss_function='Logloss', logging_level='Silent')\n",
    "#model = CatBoostClassifier(iterations=60, depth=8, learning_rate=0.3, loss_function='Logloss', logging_level='Silent')\n",
    "#train the model\n",
    "model.fit(X_train, y_train)\n",
    "# make the prediction using the resulting model\n",
    "preds_class = model.predict(X_validate)\n",
    "preds_proba = model.predict_proba(X_validate)\n",
    "print roc_auc_score(y_validate, preds_class), roc_auc_score(y_validate, preds_class)"
   ]
  },
  {
   "cell_type": "code",
   "execution_count": null,
   "metadata": {},
   "outputs": [],
   "source": []
  },
  {
   "cell_type": "markdown",
   "metadata": {},
   "source": [
    "### LightGBM"
   ]
  },
  {
   "cell_type": "code",
   "execution_count": 24,
   "metadata": {},
   "outputs": [],
   "source": [
    "import lightgbm as lgb"
   ]
  },
  {
   "cell_type": "code",
   "execution_count": 25,
   "metadata": {},
   "outputs": [],
   "source": [
    "X_train_l = X_train\n",
    "X_validate_l = X_validate\n",
    "X_l = X\n",
    "X_test_l = X_test\n",
    "#add xgboost outputs\n",
    "X_train_l[:,:-1] = y_train_scores.reshape(X_train_l.shape[0], 1)\n",
    "X_validate_l[:,:-1] = y_scores.reshape(X_validate_l.shape[0], 1)\n",
    "X_l[:,:-1] = y_p.reshape(X_l.shape[0], 1)\n",
    "X_test_l[:,:-1] = y_res.reshape(X_test_l.shape[0], 1)\n",
    "#add logistic regression outputs\n",
    "X_train_l[:,:-1] = y_train_scores.reshape(X_train_l.shape[0], 1)\n",
    "X_validate_l[:,:-1] = y_scores.reshape(X_validate_l.shape[0], 1)\n",
    "X_l[:,:-1] = y_p.reshape(X_l.shape[0], 1)\n",
    "X_test_l[:,:-1] = y_res.reshape(X_test_l.shape[0], 1)"
   ]
  },
  {
   "cell_type": "code",
   "execution_count": 26,
   "metadata": {},
   "outputs": [
    {
     "name": "stdout",
     "output_type": "stream",
     "text": [
      "0.7283492681469628 0.1\n",
      "0.7283492681469628 0.2\n",
      "0.7283492681469628 0.30000000000000004\n",
      "0.7283492681469628 0.4\n",
      "0.7283492681469628 0.5\n",
      "0.7283492681469628 0.6\n",
      "0.7283492681469628 0.7000000000000001\n",
      "0.7283492681469628 0.8\n",
      "0.7283492681469628 0.9\n",
      "0.7283492681469628 1.0\n"
     ]
    }
   ],
   "source": [
    "for d in np.arange(0.1, 1.1, 0.1):\n",
    "    gbm = lgb.LGBMRegressor(objective='binary', max_depth = 4, bagging_fraction = 1,\n",
    "                        num_leaves=8, feature_fraction = 0.5, lambda_l2 = 0.8,\n",
    "                        learning_rate=0.05,\n",
    "                        n_estimators=70, verbose = 0)\n",
    "    gbm.fit(X_train_l, y_train)\n",
    "    y_pred = gbm.predict(X_validate_l, num_iteration=gbm.best_iteration_)\n",
    "    print roc_auc_score(y_validate, y_pred), d"
   ]
  },
  {
   "cell_type": "code",
   "execution_count": 27,
   "metadata": {},
   "outputs": [],
   "source": [
    "gbm = lgb.LGBMRegressor(objective='binary', max_depth = 4, bagging_fraction = 1,\n",
    "                        num_leaves=8, feature_fraction = 0.5, lambda_l2 = 0.8,\n",
    "                        learning_rate=0.05,\n",
    "                        n_estimators=70, verbose = 0)\n",
    "gbm.fit(X_l, y)\n",
    "y_pred = gbm.predict(X_test_l, num_iteration=gbm.best_iteration_)"
   ]
  },
  {
   "cell_type": "code",
   "execution_count": 28,
   "metadata": {},
   "outputs": [
    {
     "name": "stdout",
     "output_type": "stream",
     "text": [
      "(4166, 1)\n"
     ]
    },
    {
     "data": {
      "text/html": [
       "<div>\n",
       "<style scoped>\n",
       "    .dataframe tbody tr th:only-of-type {\n",
       "        vertical-align: middle;\n",
       "    }\n",
       "\n",
       "    .dataframe tbody tr th {\n",
       "        vertical-align: top;\n",
       "    }\n",
       "\n",
       "    .dataframe thead th {\n",
       "        text-align: right;\n",
       "    }\n",
       "</style>\n",
       "<table border=\"1\" class=\"dataframe\">\n",
       "  <thead>\n",
       "    <tr style=\"text-align: right;\">\n",
       "      <th></th>\n",
       "      <th>_VAL_</th>\n",
       "    </tr>\n",
       "    <tr>\n",
       "      <th>_ID_</th>\n",
       "      <th></th>\n",
       "    </tr>\n",
       "  </thead>\n",
       "  <tbody>\n",
       "    <tr>\n",
       "      <th>0</th>\n",
       "      <td>0.103342</td>\n",
       "    </tr>\n",
       "    <tr>\n",
       "      <th>1</th>\n",
       "      <td>0.469832</td>\n",
       "    </tr>\n",
       "    <tr>\n",
       "      <th>2</th>\n",
       "      <td>0.176692</td>\n",
       "    </tr>\n",
       "    <tr>\n",
       "      <th>3</th>\n",
       "      <td>0.393345</td>\n",
       "    </tr>\n",
       "    <tr>\n",
       "      <th>4</th>\n",
       "      <td>0.603982</td>\n",
       "    </tr>\n",
       "  </tbody>\n",
       "</table>\n",
       "</div>"
      ],
      "text/plain": [
       "         _VAL_\n",
       "_ID_          \n",
       "0     0.103342\n",
       "1     0.469832\n",
       "2     0.176692\n",
       "3     0.393345\n",
       "4     0.603982"
      ]
     },
     "execution_count": 28,
     "metadata": {},
     "output_type": "execute_result"
    }
   ],
   "source": [
    "#Сохраняем результат в csv\n",
    "test_pd = pd.DataFrame(y_pred, columns=['_VAL_'])\n",
    "test_pd.index.names = ['_ID_']\n",
    "test_pd.to_csv('lgb.csv')\n",
    "print(test_pd.shape)\n",
    "test_pd.head(5)"
   ]
  },
  {
   "cell_type": "code",
   "execution_count": 24,
   "metadata": {},
   "outputs": [
    {
     "data": {
      "text/plain": [
       "array([[ 0.03102162],\n",
       "       [ 0.21062025],\n",
       "       [ 0.121241  ],\n",
       "       ..., \n",
       "       [ 0.13546936],\n",
       "       [ 0.08220468],\n",
       "       [ 0.08715096]], dtype=float32)"
      ]
     },
     "execution_count": 24,
     "metadata": {},
     "output_type": "execute_result"
    }
   ],
   "source": [
    "y_train_scores.reshape(20435, 1)"
   ]
  },
  {
   "cell_type": "code",
   "execution_count": 37,
   "metadata": {},
   "outputs": [
    {
     "data": {
      "text/plain": [
       "[1,\n",
       " 2,\n",
       " 3,\n",
       " 4,\n",
       " 5,\n",
       " 6,\n",
       " 7,\n",
       " 8,\n",
       " 9,\n",
       " 10,\n",
       " 11,\n",
       " 12,\n",
       " 13,\n",
       " 14,\n",
       " 15,\n",
       " 16,\n",
       " 17,\n",
       " 18,\n",
       " 19,\n",
       " 20,\n",
       " 21,\n",
       " 22,\n",
       " 23,\n",
       " 24,\n",
       " 25,\n",
       " 26,\n",
       " 27,\n",
       " 28,\n",
       " 29,\n",
       " 30,\n",
       " 31,\n",
       " 32,\n",
       " 33,\n",
       " 34,\n",
       " 35,\n",
       " 36,\n",
       " 37,\n",
       " 38,\n",
       " 39,\n",
       " 40,\n",
       " 41,\n",
       " 42,\n",
       " 43,\n",
       " 44,\n",
       " 45,\n",
       " 46,\n",
       " 47,\n",
       " 48,\n",
       " 49,\n",
       " 50,\n",
       " 51,\n",
       " 52,\n",
       " 53,\n",
       " 54,\n",
       " 55,\n",
       " 56,\n",
       " 57,\n",
       " 58,\n",
       " 59]"
      ]
     },
     "execution_count": 37,
     "metadata": {},
     "output_type": "execute_result"
    }
   ],
   "source": [
    "range(1, 60)"
   ]
  },
  {
   "cell_type": "code",
   "execution_count": 52,
   "metadata": {},
   "outputs": [
    {
     "data": {
      "text/plain": [
       "30500"
      ]
     },
     "execution_count": 52,
     "metadata": {},
     "output_type": "execute_result"
    }
   ],
   "source": [
    "X_l.shape[0]"
   ]
  },
  {
   "cell_type": "code",
   "execution_count": null,
   "metadata": {
    "collapsed": true
   },
   "outputs": [],
   "source": []
  }
 ],
 "metadata": {
  "kernelspec": {
   "display_name": "Python 2",
   "language": "python",
   "name": "python2"
  },
  "language_info": {
   "codemirror_mode": {
    "name": "ipython",
    "version": 2
   },
   "file_extension": ".py",
   "mimetype": "text/x-python",
   "name": "python",
   "nbconvert_exporter": "python",
   "pygments_lexer": "ipython2",
   "version": "2.7.14"
  }
 },
 "nbformat": 4,
 "nbformat_minor": 2
}
