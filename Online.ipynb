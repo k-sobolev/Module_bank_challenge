{
 "cells": [
  {
   "cell_type": "code",
   "execution_count": 1,
   "metadata": {
    "collapsed": false
   },
   "outputs": [
    {
     "name": "stderr",
     "output_type": "stream",
     "text": [
      "/anaconda/lib/python2.7/site-packages/sklearn/cross_validation.py:44: DeprecationWarning: This module was deprecated in version 0.18 in favor of the model_selection module into which all the refactored classes and functions are moved. Also note that the interface of the new CV iterators are different from that of this module. This module will be removed in 0.20.\n",
      "  \"This module will be removed in 0.20.\", DeprecationWarning)\n"
     ]
    }
   ],
   "source": [
    "import pandas as pd\n",
    "import numpy as np\n",
    "import datetime\n",
    "\n",
    "import xgboost as xgb\n",
    "import sklearn\n",
    "\n",
    "from sklearn.model_selection import train_test_split\n",
    "\n",
    "%matplotlib inline"
   ]
  },
  {
   "cell_type": "code",
   "execution_count": 2,
   "metadata": {
    "collapsed": false
   },
   "outputs": [
    {
     "data": {
      "text/plain": [
       "(30500, 345)"
      ]
     },
     "execution_count": 2,
     "metadata": {},
     "output_type": "execute_result"
    }
   ],
   "source": [
    "train = pd.read_csv('train.csv', '\\t', index_col='Unnamed: 0')\n",
    "test = pd.read_csv('test.csv', '\\t', index_col='Unnamed: 0')\n",
    "X = train.drop('0', axis=1).as_matrix()\n",
    "y = train['0']\n",
    "X_test = test.drop('0', axis=1).as_matrix()\n",
    "X.shape"
   ]
  },
  {
   "cell_type": "code",
   "execution_count": 3,
   "metadata": {
    "collapsed": false
   },
   "outputs": [],
   "source": [
    "from sklearn.model_selection import train_test_split\n",
    "X_train, X_validate, y_train, y_validate = train_test_split(X, y, test_size=0.33, random_state=42)"
   ]
  },
  {
   "cell_type": "markdown",
   "metadata": {},
   "source": [
    "### XGBoost "
   ]
  },
  {
   "cell_type": "code",
   "execution_count": 4,
   "metadata": {
    "collapsed": false
   },
   "outputs": [],
   "source": [
    "import xgboost as xgb"
   ]
  },
  {
   "cell_type": "code",
   "execution_count": 5,
   "metadata": {
    "collapsed": false
   },
   "outputs": [],
   "source": [
    "bst = xgb.XGBClassifier()"
   ]
  },
  {
   "cell_type": "code",
   "execution_count": 19,
   "metadata": {
    "collapsed": false
   },
   "outputs": [],
   "source": [
    "dtrain = xgb.DMatrix(X_train, y_train)\n",
    "xgtrain = xgb.DMatrix(X_train)\n",
    "dvalidate = xgb.DMatrix(X_validate)\n",
    "\n",
    "D = xgb.DMatrix(X, y)\n",
    "X_vals = xgb.DMatrix(X)\n",
    "dtest = xgb.DMatrix(X_test)"
   ]
  },
  {
   "cell_type": "code",
   "execution_count": null,
   "metadata": {
    "collapsed": false
   },
   "outputs": [],
   "source": [
    "learning_rate = np.arange(0.06, 0.15, 0.01)\n",
    "for s in np.arange(0.1, 1.4, 0.1):\n",
    "    param = {'max_depth':3, 'min_child_weight':3, 'subsample':0.7,\n",
    "                 'colsample_bytree':0.07, 'eta':0.08, 'silent':1, 'objective':'binary:logistic' }\n",
    "    num_rounds = 180\n",
    "    bst = xgb.train(param, dtrain, num_rounds)\n",
    "    AUC_train = roc_auc_score(y_train, bst.predict(xgtrain))\n",
    "    AUC_validate = roc_auc_score(y_validate, bst.predict(dvalidate))\n",
    "    print('%.6f %.6f m = %f' %  (AUC_train, AUC_validate, s))"
   ]
  },
  {
   "cell_type": "code",
   "execution_count": 20,
   "metadata": {
    "collapsed": false
   },
   "outputs": [],
   "source": [
    "param = {'max_depth':3, 'min_child_weight':3, 'subsample':0.7, 'colsample_bytree':0.7,\n",
    "         'eta':0.08, 'silent':1, 'objective':'binary:logistic', 'seed': 666 }\n",
    "num_round = 180\n",
    "xgb_best = xgb.train(param, dtrain, num_round)"
   ]
  },
  {
   "cell_type": "code",
   "execution_count": 21,
   "metadata": {
    "collapsed": false
   },
   "outputs": [
    {
     "data": {
      "text/plain": [
       "0.73072644134246012"
      ]
     },
     "execution_count": 21,
     "metadata": {},
     "output_type": "execute_result"
    }
   ],
   "source": [
    "import numpy as np\n",
    "from sklearn.metrics import roc_auc_score\n",
    "y_scores = xgb_best.predict(dvalidate)\n",
    "y_train_scores = xgb_best.predict(xgtrain)\n",
    "roc_auc_score(y_validate, y_scores)"
   ]
  },
  {
   "cell_type": "code",
   "execution_count": 50,
   "metadata": {
    "collapsed": false
   },
   "outputs": [],
   "source": [
    "xgb_best = xgb.train(param, D, num_round)\n",
    "y_res = xgb_best.predict(dtest)\n",
    "y_p = xgb_best.predict(X_vals)"
   ]
  },
  {
   "cell_type": "code",
   "execution_count": 131,
   "metadata": {
    "collapsed": false
   },
   "outputs": [
    {
     "name": "stdout",
     "output_type": "stream",
     "text": [
      "(4166, 1)\n"
     ]
    },
    {
     "data": {
      "text/html": [
       "<div>\n",
       "<style>\n",
       "    .dataframe thead tr:only-child th {\n",
       "        text-align: right;\n",
       "    }\n",
       "\n",
       "    .dataframe thead th {\n",
       "        text-align: left;\n",
       "    }\n",
       "\n",
       "    .dataframe tbody tr th {\n",
       "        vertical-align: top;\n",
       "    }\n",
       "</style>\n",
       "<table border=\"1\" class=\"dataframe\">\n",
       "  <thead>\n",
       "    <tr style=\"text-align: right;\">\n",
       "      <th></th>\n",
       "      <th>_VAL_</th>\n",
       "    </tr>\n",
       "    <tr>\n",
       "      <th>_ID_</th>\n",
       "      <th></th>\n",
       "    </tr>\n",
       "  </thead>\n",
       "  <tbody>\n",
       "    <tr>\n",
       "      <th>0</th>\n",
       "      <td>0.160904</td>\n",
       "    </tr>\n",
       "    <tr>\n",
       "      <th>1</th>\n",
       "      <td>0.378716</td>\n",
       "    </tr>\n",
       "    <tr>\n",
       "      <th>2</th>\n",
       "      <td>0.148922</td>\n",
       "    </tr>\n",
       "    <tr>\n",
       "      <th>3</th>\n",
       "      <td>0.335715</td>\n",
       "    </tr>\n",
       "    <tr>\n",
       "      <th>4</th>\n",
       "      <td>0.542013</td>\n",
       "    </tr>\n",
       "  </tbody>\n",
       "</table>\n",
       "</div>"
      ],
      "text/plain": [
       "         _VAL_\n",
       "_ID_          \n",
       "0     0.160904\n",
       "1     0.378716\n",
       "2     0.148922\n",
       "3     0.335715\n",
       "4     0.542013"
      ]
     },
     "execution_count": 131,
     "metadata": {},
     "output_type": "execute_result"
    }
   ],
   "source": [
    "#Сохраняем результат в csv\n",
    "test_pd = pd.DataFrame(y_res,columns=['_VAL_'])\n",
    "test_pd.index.names = ['_ID_']\n",
    "test_pd.to_csv('xgb.csv')\n",
    "print(test_pd.shape)\n",
    "test_pd.head(5)"
   ]
  },
  {
   "cell_type": "code",
   "execution_count": 47,
   "metadata": {
    "collapsed": false
   },
   "outputs": [
    {
     "data": {
      "text/plain": [
       "array([ 0.16752338,  0.14745398,  0.10030134, ...,  0.27551308,\n",
       "        0.11048718,  0.13620201], dtype=float32)"
      ]
     },
     "execution_count": 47,
     "metadata": {},
     "output_type": "execute_result"
    }
   ],
   "source": [
    "y_res"
   ]
  },
  {
   "cell_type": "code",
   "execution_count": 62,
   "metadata": {
    "collapsed": false
   },
   "outputs": [
    {
     "data": {
      "text/plain": [
       "[1, 26, 51, 76, 101, 126, 151, 176, 201, 226, 251, 276]"
      ]
     },
     "execution_count": 62,
     "metadata": {},
     "output_type": "execute_result"
    }
   ],
   "source": [
    "range(1, 300, 25)"
   ]
  },
  {
   "cell_type": "markdown",
   "metadata": {
    "collapsed": true
   },
   "source": [
    "### CatBoost"
   ]
  },
  {
   "cell_type": "code",
   "execution_count": 81,
   "metadata": {
    "collapsed": true
   },
   "outputs": [],
   "source": [
    "from catboost import CatBoostClassifier"
   ]
  },
  {
   "cell_type": "code",
   "execution_count": 144,
   "metadata": {
    "collapsed": false
   },
   "outputs": [
    {
     "name": "stdout",
     "output_type": "stream",
     "text": [
      "0.55934309846 0.55934309846\n"
     ]
    }
   ],
   "source": [
    "model = CatBoostClassifier(iterations=60, depth=8, learning_rate=0.3, loss_function='Logloss', logging_level='Silent')\n",
    "#train the model\n",
    "model.fit(X_train, y_train)\n",
    "# make the prediction using the resulting model\n",
    "preds_class = model.predict(X_validate)\n",
    "preds_proba = model.predict_proba(X_validate)\n",
    "print roc_auc_score(y_validate, preds_class), roc_auc_score(y_validate, preds_class)"
   ]
  },
  {
   "cell_type": "code",
   "execution_count": 135,
   "metadata": {
    "collapsed": false
   },
   "outputs": [
    {
     "data": {
      "text/plain": [
       "[['a', 'b', 1, 4, 5, 6], ['a', 'b', 4, 5, 6, 7], ['c', 'd', 30, 40, 50, 60]]"
      ]
     },
     "execution_count": 135,
     "metadata": {},
     "output_type": "execute_result"
    }
   ],
   "source": [
    "train_data = [[\"a\",\"b\",1,4,5,6],[\"a\",\"b\",4,5,6,7],[\"c\",\"d\",30,40,50,60]]\n",
    "train_data"
   ]
  },
  {
   "cell_type": "code",
   "execution_count": 141,
   "metadata": {
    "collapsed": false
   },
   "outputs": [
    {
     "data": {
      "text/plain": [
       "array([ 0.,  1.])"
      ]
     },
     "execution_count": 141,
     "metadata": {},
     "output_type": "execute_result"
    }
   ],
   "source": [
    "np.unique(preds_class)"
   ]
  },
  {
   "cell_type": "code",
   "execution_count": 142,
   "metadata": {
    "collapsed": false
   },
   "outputs": [
    {
     "data": {
      "text/plain": [
       "array([[ 0.80092379,  0.19907621],\n",
       "       [ 0.96094709,  0.03905291],\n",
       "       [ 0.87892901,  0.12107099],\n",
       "       ..., \n",
       "       [ 0.55406161,  0.44593839],\n",
       "       [ 0.91518703,  0.08481297],\n",
       "       [ 0.89720898,  0.10279102]])"
      ]
     },
     "execution_count": 142,
     "metadata": {},
     "output_type": "execute_result"
    }
   ],
   "source": [
    "preds_proba"
   ]
  },
  {
   "cell_type": "markdown",
   "metadata": {},
   "source": [
    "### LightGBM"
   ]
  },
  {
   "cell_type": "code",
   "execution_count": 9,
   "metadata": {
    "collapsed": false
   },
   "outputs": [],
   "source": [
    "import lightgbm as lgb"
   ]
  },
  {
   "cell_type": "code",
   "execution_count": 54,
   "metadata": {
    "collapsed": false
   },
   "outputs": [],
   "source": [
    "X_train_l = X_train\n",
    "X_validate_l = X_validate\n",
    "X_l = X\n",
    "X_test_l = X_test\n",
    "X_train_l[:,:-1] = y_train_scores.reshape(X_train_l.shape[0], 1)\n",
    "X_validate_l[:,:-1] = y_scores.reshape(X_validate_l.shape[0], 1)\n",
    "X_l[:,:-1] = y_p.reshape(X_l.shape[0], 1)\n",
    "X_test_l[:,:-1] = y_res.reshape(X_test_l.shape[0], 1)"
   ]
  },
  {
   "cell_type": "code",
   "execution_count": 56,
   "metadata": {
    "collapsed": false
   },
   "outputs": [
    {
     "name": "stdout",
     "output_type": "stream",
     "text": [
      "0.730610262296 0.1\n",
      "0.730610262296 0.2\n",
      "0.730610262296 0.3\n",
      "0.730610262296 0.4\n",
      "0.730610262296 0.5\n",
      "0.730610262296 0.6\n",
      "0.730610262296 0.7\n",
      "0.730610262296 0.8\n",
      "0.730610262296 0.9\n",
      "0.730610262296 1.0\n"
     ]
    }
   ],
   "source": [
    "for d in np.arange(0.1, 1.1, 0.1):\n",
    "    gbm = lgb.LGBMRegressor(objective='binary', max_depth = 4, bagging_fraction = 1,\n",
    "                        num_leaves=8, feature_fraction = 0.5, lambda_l2 = 0.8,\n",
    "                        learning_rate=0.05,\n",
    "                        n_estimators=70, verbose = 0)\n",
    "    gbm.fit(X_train_l, y_train)\n",
    "    y_pred = gbm.predict(X_validate_l, num_iteration=gbm.best_iteration_)\n",
    "    print roc_auc_score(y_validate, y_pred), d"
   ]
  },
  {
   "cell_type": "code",
   "execution_count": 57,
   "metadata": {
    "collapsed": false
   },
   "outputs": [],
   "source": [
    "gbm = lgb.LGBMRegressor(objective='binary', max_depth = 4, bagging_fraction = 1,\n",
    "                        num_leaves=8, feature_fraction = 0.5, lambda_l2 = 0.8,\n",
    "                        learning_rate=0.05,\n",
    "                        n_estimators=70, verbose = 0)\n",
    "gbm.fit(X_l, y)\n",
    "y_pred = gbm.predict(X_test_l, num_iteration=gbm.best_iteration_)"
   ]
  },
  {
   "cell_type": "code",
   "execution_count": 59,
   "metadata": {
    "collapsed": false
   },
   "outputs": [
    {
     "name": "stdout",
     "output_type": "stream",
     "text": [
      "(4166, 1)\n"
     ]
    },
    {
     "data": {
      "text/html": [
       "<div>\n",
       "<style>\n",
       "    .dataframe thead tr:only-child th {\n",
       "        text-align: right;\n",
       "    }\n",
       "\n",
       "    .dataframe thead th {\n",
       "        text-align: left;\n",
       "    }\n",
       "\n",
       "    .dataframe tbody tr th {\n",
       "        vertical-align: top;\n",
       "    }\n",
       "</style>\n",
       "<table border=\"1\" class=\"dataframe\">\n",
       "  <thead>\n",
       "    <tr style=\"text-align: right;\">\n",
       "      <th></th>\n",
       "      <th>_VAL_</th>\n",
       "    </tr>\n",
       "    <tr>\n",
       "      <th>_ID_</th>\n",
       "      <th></th>\n",
       "    </tr>\n",
       "  </thead>\n",
       "  <tbody>\n",
       "    <tr>\n",
       "      <th>0</th>\n",
       "      <td>0.148793</td>\n",
       "    </tr>\n",
       "    <tr>\n",
       "      <th>1</th>\n",
       "      <td>0.439269</td>\n",
       "    </tr>\n",
       "    <tr>\n",
       "      <th>2</th>\n",
       "      <td>0.145873</td>\n",
       "    </tr>\n",
       "    <tr>\n",
       "      <th>3</th>\n",
       "      <td>0.373470</td>\n",
       "    </tr>\n",
       "    <tr>\n",
       "      <th>4</th>\n",
       "      <td>0.614913</td>\n",
       "    </tr>\n",
       "  </tbody>\n",
       "</table>\n",
       "</div>"
      ],
      "text/plain": [
       "         _VAL_\n",
       "_ID_          \n",
       "0     0.148793\n",
       "1     0.439269\n",
       "2     0.145873\n",
       "3     0.373470\n",
       "4     0.614913"
      ]
     },
     "execution_count": 59,
     "metadata": {},
     "output_type": "execute_result"
    }
   ],
   "source": [
    "#Сохраняем результат в csv\n",
    "test_pd = pd.DataFrame(y_pred, columns=['_VAL_'])\n",
    "test_pd.index.names = ['_ID_']\n",
    "test_pd.to_csv('lgb.csv')\n",
    "print(test_pd.shape)\n",
    "test_pd.head(5)"
   ]
  },
  {
   "cell_type": "code",
   "execution_count": 24,
   "metadata": {
    "collapsed": false
   },
   "outputs": [
    {
     "data": {
      "text/plain": [
       "array([[ 0.03102162],\n",
       "       [ 0.21062025],\n",
       "       [ 0.121241  ],\n",
       "       ..., \n",
       "       [ 0.13546936],\n",
       "       [ 0.08220468],\n",
       "       [ 0.08715096]], dtype=float32)"
      ]
     },
     "execution_count": 24,
     "metadata": {},
     "output_type": "execute_result"
    }
   ],
   "source": [
    "y_train_scores.reshape(20435, 1)"
   ]
  },
  {
   "cell_type": "code",
   "execution_count": 37,
   "metadata": {
    "collapsed": false
   },
   "outputs": [
    {
     "data": {
      "text/plain": [
       "[1,\n",
       " 2,\n",
       " 3,\n",
       " 4,\n",
       " 5,\n",
       " 6,\n",
       " 7,\n",
       " 8,\n",
       " 9,\n",
       " 10,\n",
       " 11,\n",
       " 12,\n",
       " 13,\n",
       " 14,\n",
       " 15,\n",
       " 16,\n",
       " 17,\n",
       " 18,\n",
       " 19,\n",
       " 20,\n",
       " 21,\n",
       " 22,\n",
       " 23,\n",
       " 24,\n",
       " 25,\n",
       " 26,\n",
       " 27,\n",
       " 28,\n",
       " 29,\n",
       " 30,\n",
       " 31,\n",
       " 32,\n",
       " 33,\n",
       " 34,\n",
       " 35,\n",
       " 36,\n",
       " 37,\n",
       " 38,\n",
       " 39,\n",
       " 40,\n",
       " 41,\n",
       " 42,\n",
       " 43,\n",
       " 44,\n",
       " 45,\n",
       " 46,\n",
       " 47,\n",
       " 48,\n",
       " 49,\n",
       " 50,\n",
       " 51,\n",
       " 52,\n",
       " 53,\n",
       " 54,\n",
       " 55,\n",
       " 56,\n",
       " 57,\n",
       " 58,\n",
       " 59]"
      ]
     },
     "execution_count": 37,
     "metadata": {},
     "output_type": "execute_result"
    }
   ],
   "source": [
    "range(1, 60)"
   ]
  },
  {
   "cell_type": "code",
   "execution_count": 52,
   "metadata": {
    "collapsed": false
   },
   "outputs": [
    {
     "data": {
      "text/plain": [
       "30500"
      ]
     },
     "execution_count": 52,
     "metadata": {},
     "output_type": "execute_result"
    }
   ],
   "source": [
    "X_l.shape[0]"
   ]
  },
  {
   "cell_type": "code",
   "execution_count": null,
   "metadata": {
    "collapsed": true
   },
   "outputs": [],
   "source": []
  }
 ],
 "metadata": {
  "kernelspec": {
   "display_name": "Python 2",
   "language": "python",
   "name": "python2"
  },
  "language_info": {
   "codemirror_mode": {
    "name": "ipython",
    "version": 2
   },
   "file_extension": ".py",
   "mimetype": "text/x-python",
   "name": "python",
   "nbconvert_exporter": "python",
   "pygments_lexer": "ipython2",
   "version": "2.7.13"
  }
 },
 "nbformat": 4,
 "nbformat_minor": 2
}
